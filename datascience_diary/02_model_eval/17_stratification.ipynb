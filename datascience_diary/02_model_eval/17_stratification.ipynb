{
 "cells": [
  {
   "cell_type": "markdown",
   "metadata": {},
   "source": [
    "# Entry 17 - Stratification"
   ]
  },
  {
   "cell_type": "markdown",
   "metadata": {},
   "source": [
    "## The Problem\n",
    "\n",
    "When dividing the data into k-folds for k-fold cross-validation, the percent of the target variable should be equally divided between the different folds. For example, the mushroom dataset had 53.3% edible mushrooms and 46.7% poisonous. The goal of stratified k-fold is to keep that ratio consistent between the different folds."
   ]
  },
  {
   "cell_type": "code",
   "execution_count": 1,
   "metadata": {},
   "outputs": [
    {
     "data": {
      "text/plain": [
       "EDIBLE       53.326996\n",
       "POISONOUS    46.673004\n",
       "Name: class, dtype: float64"
      ]
     },
     "execution_count": 1,
     "metadata": {},
     "output_type": "execute_result"
    }
   ],
   "source": [
    "import pandas as pd\n",
    "col_names = ['class', 'cap_shape', 'cap_surface', 'cap_color', 'bruises', 'odor',\n",
    "             'gill_attachment', 'gill_spacing', 'gill_size', 'gill_color',\n",
    "             'stalk_shape', 'stalk_root', 'stalk_surface_above_ring', 'stalk_surface_below_ring',\n",
    "             'stalk_color_above_ring', 'stalk_color_below_ring',\n",
    "             'veil_type', 'veil_color', 'ring_number', 'ring_type',\n",
    "             'spore_print_color', 'population', 'habitat']\n",
    "mushrooms_raw = pd.read_csv('../data/expanded.csv', header=None, names=col_names).dropna()\n",
    "mushrooms_raw['class'].value_counts()/mushrooms_raw.shape[0] * 100"
   ]
  },
  {
   "cell_type": "markdown",
   "metadata": {},
   "source": [
    "## The Options"
   ]
  },
  {
   "cell_type": "markdown",
   "metadata": {},
   "source": [
    "## The Proposed Solution"
   ]
  },
  {
   "cell_type": "markdown",
   "metadata": {},
   "source": [
    "## The Fail"
   ]
  },
  {
   "cell_type": "markdown",
   "metadata": {},
   "source": [
    "## Up Next"
   ]
  },
  {
   "cell_type": "markdown",
   "metadata": {},
   "source": [
    "### Resources"
   ]
  }
 ],
 "metadata": {
  "kernelspec": {
   "display_name": "Python 3",
   "language": "python",
   "name": "python3"
  },
  "language_info": {
   "codemirror_mode": {
    "name": "ipython",
    "version": 3
   },
   "file_extension": ".py",
   "mimetype": "text/x-python",
   "name": "python",
   "nbconvert_exporter": "python",
   "pygments_lexer": "ipython3",
   "version": "3.7.6"
  }
 },
 "nbformat": 4,
 "nbformat_minor": 4
}
