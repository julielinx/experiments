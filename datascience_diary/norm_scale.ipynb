{
 "cells": [
  {
   "cell_type": "markdown",
   "metadata": {},
   "source": [
    "Algorithms like linear regression prefer normalized and standardized values. So when the range of values in one column is less than 23 and the range in another column is more than 140,000, the algorithm takes longer to reach an answer and may not reach as good an answer as if the values were standardized (generally between 0 and 1 or -1 and 1).\n",
    "\n",
    "According to the Andrew Ng [Machine Learning](https://www.coursera.org/learn/machine-learning/) course by Stanford on Coursera, normalization and standardization can be defined as follows:\n",
    "\n",
    "**Feature scaling (standardization)**: dividing the input values by the range of the input variable, resulting in a new range of 1. You can also divide by the standard deviation instead, depending on what you want. Basically, you bring all the features within the same range (min - max) of values.\n",
    "\n",
    "Example: The minimum diameter_km is 2370 and the max is 142,984. To scale Mercury's diameter of 4879:\n",
    "- Mercury's value = 4879\n",
    "- diameter_km range = 142,984 - 2370 = 140,614\n",
    "- standardized value = 4879 / 140,614 = 0.0347\n",
    "\n",
    "**Mean normalization**: subtracting the average for an input vairable from the value for the input variable, resulting in a new average value for the input variable of just zero. IE: this resets the mean value of the feature to 0.\n",
    "\n",
    "Example: To normalize the mass_1024_kg of Mercury:\n",
    "- Mercury's value = 0.33\n",
    "- mass_1024kg mean = 242.438\n",
    "- normalized value = 0.330 - 242.438 = -242.108"
   ]
  }
 ],
 "metadata": {
  "kernelspec": {
   "display_name": "Python 3",
   "language": "python",
   "name": "python3"
  },
  "language_info": {
   "codemirror_mode": {
    "name": "ipython",
    "version": 3
   },
   "file_extension": ".py",
   "mimetype": "text/x-python",
   "name": "python",
   "nbconvert_exporter": "python",
   "pygments_lexer": "ipython3",
   "version": "3.7.6"
  }
 },
 "nbformat": 4,
 "nbformat_minor": 4
}
