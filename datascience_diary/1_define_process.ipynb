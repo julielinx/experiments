{
 "cells": [
  {
   "cell_type": "markdown",
   "metadata": {},
   "source": [
    "# Entry 1\n",
    "\n",
    "## The Problem\n",
    "\n",
    "I graduated with a Master of Science in Data Science degree from a private university after a year and a half of coursework. I got a job on a machine learning team at a large company. I've worked my way through multiple courses on Coursera, Udemy, EdX, and Udacity. I've tried my hand at a couple of competitions on Kaggle and worked my way through several of their tutorials. I've read blogs and books, listened to podcasts, worked my way through a plethora tutorials, and read more documentation than I would wish on my worst enemy. And still I feel like [an impostor](https://towardsdatascience.com/how-to-manage-impostor-syndrome-in-data-science-ad814809f068).\n",
    "\n",
    "Perhaps it's time to try a different track. Perhaps I know too much and am getting bogged down in the edge cases and need to [refocus on the fundamentals](https://jamesclear.com/fundamentals). Perhaps I should try walking before I run. Or even crawling before I walk. Or...well...you get the idea.\n",
    "\n",
    "## The Proposed Solution\n",
    "\n",
    "I happened on the [Machine Learning Mastery website](https://machinelearningmastery.com/youre-wrong-machine-learning-not-hard/) in one of my searches for information. After reading about what I came for ([L1 and L2 norms](https://machinelearningmastery.com/vector-norms-machine-learning/)), I started to explore the site. He presents a good case for a top-down approach wherein you solve one single small problem at a time and learn as you go instead of a bottom-up approach wherein you learn all the math and all the programming and all the machine learning and all the algorithmic theory before applying it.\n",
    "\n",
    "I decided to try his approach. One of the recommendations that resonated with me revolved around creating a write up after every project.\n",
    "\n",
    "The goal of this diary is to take the smallest problem I can find and solve just one aspect. Once that aspect has been addressed, I can move on to the next.\n",
    "\n",
    "The order of the challenges to solve immediately became my first challenge. How to pick what comes first?\n",
    "\n",
    "## The First Step\n",
    "\n",
    "#### The Problem\n",
    "\n",
    "There are many things to address even before looking at algorithms like linear regression, SVM, or k Nearest Neighbors. First the data has to be preprocessed. What to do with missing values? Most algorithms choke if there's no value for a specific feature of a specific observation. Others, like decision trees, could care less. What about categorical variables. Most algorithms prefer numeric values. The fact that you have seven different kinds of mushroom mean nothing to them. But if you just change them into numbers, then the algorithm thinks button mushrooms come before shiitake.\n",
    "\n",
    "#### The Proposed Solution\n",
    "\n",
    "Jason Brownlee makes an eloquent argument for choosing or developing a [systematic process](https://machinelearningmastery.com/process-for-working-through-machine-learning-problems/) to work through a problem. Having spent  hours upon hours working through data in a one-off manner, a process sounds like a stellar idea.\n",
    "\n",
    "Having a clear process gives direction on what to do, when to do it, and what comes next. It also provides a framework for incorporating [deliberate practice](https://jamesclear.com/deliberate-practice-theory) into the pipeline, concentrating on one single aspect to improve. This will allow me to generate the [quantity](https://jamesclear.com/repetitions) of work that should produce better quality as antidoctially suggested in [Art & Fear](https://www.amazon.com/gp/product/0961454733/ref=as_li_qf_sp_asin_il_tl?ie=UTF8&camp=1789&creative=9325&creativeASIN=0961454733&linkCode=as2&tag=jamesclear-20&linkId=CYEZ57AX7IODGHWX), based on the actual results of a photography class at the University of Florida."
   ]
  },
  {
   "cell_type": "markdown",
   "metadata": {},
   "source": [
    "## Choosing a process\n",
    "\n",
    "Jason recommends a [5 step process](https://machinelearningmastery.com/process-for-working-through-machine-learning-problems/) on his Machine Learning Mastery website. This doesn't seem quite detailed enough for me.\n",
    "\n",
    "Chapter Two of [Hands on Machine Learning with Scikit-Learn & TensorFlow](https://www.amazon.com/Hands-Machine-Learning-Scikit-Learn-TensorFlow/dp/1491962291) (yes the first edition, because that's the edition I bought during my graduate studies and I own quite enough data science books already thank you very much) proposes an 8 step process. This process better aligns with my experiences with the requirements for a machine learning solution.\n",
    "\n",
    "The 8 steps are:\n",
    "\n",
    "1. Frame the problem and look at the big picture\n",
    "2. Get the data\n",
    "3. Explore the data to gain insights\n",
    "4. Prepare the data to better expose the underlying data patterns to Machine Learning algorithms\n",
    "5. Explore many different models and short-list the best ones\n",
    "6. Fine-tune the models and combine them into a great solution\n",
    "7. Present the solution\n",
    "8. Launch, monitor, and maintain the system\n"
   ]
  },
  {
   "cell_type": "markdown",
   "metadata": {},
   "source": [
    "### Added bonus\n",
    "\n",
    "The added bonus of using these steps is that each one helps pick as the next challenge to tackle.\n",
    "\n",
    "Next up, Frame the Problem."
   ]
  },
  {
   "cell_type": "code",
   "execution_count": null,
   "metadata": {},
   "outputs": [],
   "source": []
  },
  {
   "cell_type": "code",
   "execution_count": null,
   "metadata": {},
   "outputs": [],
   "source": []
  }
 ],
 "metadata": {
  "kernelspec": {
   "display_name": "Python 3",
   "language": "python",
   "name": "python3"
  },
  "language_info": {
   "codemirror_mode": {
    "name": "ipython",
    "version": 3
   },
   "file_extension": ".py",
   "mimetype": "text/x-python",
   "name": "python",
   "nbconvert_exporter": "python",
   "pygments_lexer": "ipython3",
   "version": "3.7.3"
  }
 },
 "nbformat": 4,
 "nbformat_minor": 4
}
