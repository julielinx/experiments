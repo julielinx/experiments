{
 "cells": [
  {
   "cell_type": "markdown",
   "metadata": {},
   "source": [
    "# Entry 1\n",
    "\n",
    "## The Problem\n",
    "\n",
    "I am qualified. Quantitatively, I know this is true:\n",
    "- I have a Master of Science in Data Science \n",
    "- I have a job on a machine learning team at a large company\n",
    "- I've worked my way through multiple courses on Coursera, Udemy, EdX, and Udacity\n",
    "- I've started trying my hand at competitions on Kaggle and have worked my way through several of their tutorials\n",
    "- I've read blogs and books, listened to podcasts, worked my way through a plethora tutorials, and read more documentation than I'd wish on my worst enemy\n",
    "\n",
    "Still, I feel like [an impostor](https://towardsdatascience.com/how-to-manage-impostor-syndrome-in-data-science-ad814809f068) who doesn't know what I'm doing.\n",
    "\n",
    "So the question is, **how do I improve my skills and increase confidence in my abilities?**\n",
    "\n",
    "Perhaps it's time to try a different track.\n",
    "\n",
    "Perhaps I know too much, am getting bogged down in the edge cases, and need to [refocus on the fundamentals](https://jamesclear.com/fundamentals).\n",
    "\n",
    "Perhaps I should try walking before I run. Or even crawling before I walk. Or...well...you get the idea.\n",
    "\n",
    "### The Options\n",
    "\n",
    "A friend introduced me to <font color='red'>Haikyuu</font>, an anime about a bunch of high school boys playing volleyball. It wasn't until I blew through the anime and was most of the way through the underlying manga that I realized that some, or even most, of the work and strategies athletes use to improve their sports skills can be adapted to improving technical skills.\n",
    "\n",
    "Having grown up playing sports, I'm no stranger to the hard work that goes into improving physical skills and mental resiliance. I'm also no stranger to the amount of research that goes into making athletes stronger, faster, and more psychologically prepared. So I made a list of strategies that I remembered or could find online that athletes use:\n",
    "\n",
    "- <font color='red'>List from notebook</font>\n",
    "\n",
    "Sounds like a lot of work. Especially with advice like [Fall in Love with Boredom](https://jamesclear.com/in-love-with-boredom) or the more reasonably named [Fall in Love with Systems](https://jamesclear.com/goals-systems), both of which offer the same advice: focus on what you're doing, not where you're going. And who isn't familiar with the [10,000 Hour Rule](https://en.wikipedia.org/wiki/Outliers_(book))?"
   ]
  },
  {
   "cell_type": "markdown",
   "metadata": {},
   "source": [
    "## The Proposed Solution\n",
    "\n",
    "After making the list, I happened upon the [Machine Learning Mastery website](https://machinelearningmastery.com/youre-wrong-machine-learning-not-hard/) while searching for information for my job. Once I read about what I came for ([L1 and L2 norms](https://machinelearningmastery.com/vector-norms-machine-learning/)), I started exploring the site. He presents a good case for a top-down approach wherein you solve one single small problem at a time and learn as you go instead of a bottom-up approach wherein you learn all the math and all the programming and all the machine learning and all the algorithmic theory before applying it. This jived well with the other suggestions I had been seeing about improving skills, specifically deliberate practice. I decided to combine his approach with what I was doing.\n",
    "\n",
    "One of Jason's recommendations that resonated with me revolved around creating a write up after every project. The goal of this diary is to take the smallest problem I can find and solve just one aspect. Once that aspect has been addressed, I can move on to the next.\n",
    "\n",
    "The first problem to solve naturally became **how do I pick what to work on first**?"
   ]
  },
  {
   "cell_type": "markdown",
   "metadata": {},
   "source": [
    "## The First Step\n",
    "\n",
    "### The Problem\n",
    "\n",
    "There are a lot of skills involved in doing data science:\n",
    "\n",
    "- Mathematics\n",
    "  - Statistics\n",
    "  - Probability\n",
    "  - Algorithms (the math behind them)\n",
    "- Programming\n",
    "  - Principals of programming\n",
    "  - Knowning a language, for data science generally Python or R\n",
    "  - Using the command line (CLI)\n",
    "  - Understanding data structures\n",
    "  - Algorithms (turning the math into functions)\n",
    "  - Regex\n",
    " - Databases\n",
    "  - SQL\n",
    "  - Data schemas\n",
    "- Visualization\n",
    "\n",
    "<font color='red'>Finish out this list from your notebook</font>\n",
    "  \n",
    "#### The Options\n",
    "\n",
    "Even if I were to choose one specific thing, like algorithms, there are a lot of steps that lead up to it. First, you have to get the data (which comes with it's own set of pitfalls). Then it has to be preprocessed:\n",
    "- What to do with missing values?\n",
    "  - Most algorithms choke if there's no value for a specific feature of a specific observation\n",
    "  - Others, like decision trees, could care less\n",
    "- What about categorical variables?\n",
    "  - Most algorithms prefer numeric values\n",
    "  - The fact that you have seven different kinds of mushroom mean nothing to them, but if you just change them into numbers the algorithm makes assumptions like button mushrooms come before shiitake just like 3 comes before 8\n",
    "- How do you figure out which of your nearly 600 features are actually useful?\n",
    "  - Plugging them all in could cause issues with [collinearity](http://www.stat.tamu.edu/~hart/652/collinear.pdf)\n",
    "  - Or your computer could chug away forever trying to make use of all 600\n",
    "- Which algorithm do you pick?\n",
    "  - Scikit-learn lists [17 different kinds of algorithms](https://scikit-learn.org/stable/supervised_learning.html), many of which have multiple implimentations\n",
    "  - Algorithms can be resource prohibitive, running every algorithm under the sun is unrealistic\n",
    "- How do you measure success?\n",
    "\n",
    "### The Proposed Solution\n",
    "\n",
    "Jason Brownlee makes an eloquent argument for choosing or developing a [systematic process](https://machinelearningmastery.com/process-for-working-through-machine-learning-problems/) to work through a problem. Having spent  hours upon hours working through data in a one-off manner, streamlining some of these decisions and processes sounds like a stellar idea.\n",
    "\n",
    "Having a clear process gives direction on what to do, when to do it, and what comes next. It also provides a framework for incorporating [deliberate practice](https://jamesclear.com/deliberate-practice-theory) into the pipeline, concentrating on one single aspect to improve. This will allow me to generate the [quantity](https://jamesclear.com/repetitions) of work that should produce better quality as antidoctially suggested in [Art & Fear](https://www.amazon.com/gp/product/0961454733/ref=as_li_qf_sp_asin_il_tl?ie=UTF8&camp=1789&creative=9325&creativeASIN=0961454733&linkCode=as2&tag=jamesclear-20&linkId=CYEZ57AX7IODGHWX), based on an experiment conducted by a photography professor at the University of Florida."
   ]
  },
  {
   "cell_type": "markdown",
   "metadata": {},
   "source": [
    "## Choosing a process\n",
    "\n",
    "Jason recommends a [5 step process](https://machinelearningmastery.com/process-for-working-through-machine-learning-problems/) on his Machine Learning Mastery website. This doesn't seem quite detailed enough for me.\n",
    "\n",
    "Chapter Two of [Hands on Machine Learning with Scikit-Learn & TensorFlow](https://www.amazon.com/Hands-Machine-Learning-Scikit-Learn-TensorFlow/dp/1491962291) (yes the first edition, because that's the edition I bought during my graduate studies and I own quite enough data science books already thank you very much) proposes an 8 step process."
   ]
  },
  {
   "cell_type": "markdown",
   "metadata": {},
   "source": [
    "## <font color='red'>Insert picture of all your data science/math books</font>"
   ]
  },
  {
   "cell_type": "markdown",
   "metadata": {},
   "source": [
    "These additional better align with my experience of what's needed for a machine learning solution.\n",
    "\n",
    "The 8 steps are:\n",
    "\n",
    "1. Frame the problem and look at the big picture\n",
    "2. Get the data\n",
    "3. Explore the data to gain insights\n",
    "4. Prepare the data to better expose the underlying data patterns to Machine Learning algorithms\n",
    "5. Explore many different models and short-list the best ones\n",
    "6. Fine-tune the models and combine them into a great solution\n",
    "7. Present the solution\n",
    "8. Launch, monitor, and maintain the system"
   ]
  },
  {
   "cell_type": "markdown",
   "metadata": {},
   "source": [
    "### Added bonus\n",
    "\n",
    "The added bonus of using these steps is that each one helps pick the next challenge to tackle.\n",
    "\n",
    "Next up, Frame the Problem."
   ]
  },
  {
   "cell_type": "code",
   "execution_count": null,
   "metadata": {},
   "outputs": [],
   "source": []
  },
  {
   "cell_type": "code",
   "execution_count": null,
   "metadata": {},
   "outputs": [],
   "source": []
  }
 ],
 "metadata": {
  "kernelspec": {
   "display_name": "Python 3",
   "language": "python",
   "name": "python3"
  },
  "language_info": {
   "codemirror_mode": {
    "name": "ipython",
    "version": 3
   },
   "file_extension": ".py",
   "mimetype": "text/x-python",
   "name": "python",
   "nbconvert_exporter": "python",
   "pygments_lexer": "ipython3",
   "version": "3.7.6"
  }
 },
 "nbformat": 4,
 "nbformat_minor": 4
}
