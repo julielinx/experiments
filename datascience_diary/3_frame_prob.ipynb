{
 "cells": [
  {
   "cell_type": "markdown",
   "metadata": {},
   "source": [
    "# Entry 2\n",
    "\n",
    "In Entry 2 I decided to follow the [Machine Learning Project Checklist](https://www.kdnuggets.com/2018/12/machine-learning-project-checklist.html) from [Hands on Machine Learning with Scikit-Learn & TensorFlow](https://www.amazon.com/Hands-Machine-Learning-Scikit-Learn-TensorFlow/dp/1491962291). The first step in that process is to frame the problem and look at the big picture.\n",
    "\n",
    "<font color='red'>Add link to the presenter at ODSC East 2019 who also recommended the book</font>\n",
    "\n",
    "## Choosing a Problem\n",
    "\n",
    "### The Problem\n",
    "\n",
    "Generally when completing this step, you already have a project that needs to be completed. It usually comes from business partners, like the marketing department or a product manager. An example would be when Amazon first asked 'How do we put similar products in front of customers that they might be interested in?'\n",
    "\n",
    "These problems are generally ill-defined, vague, and sometimes contradictory. Most of the time when the business partner comes with their question, I have to figure out what need or opportunity the partner is trying to address, collect actual requirments for the end product, and define how to measure the real-world success (or failure) of the project.\n",
    "\n",
    "### The Options\n",
    "\n",
    "As these 'diary entries' are to practice small, specific parts of the process, there isn't a ready made question to answer. My question is only limited by the data that I can [get](http://archive.ics.uci.edu/ml/datasets.php), [find](https://www.kaggle.com/datasets), or [create](https://data.world/datasets/open-data).\n",
    "\n",
    "### The Proposed Solution\n",
    "\n",
    "Since I'm a nerd and a writer, the question(s) I want to answer revolve around a story I've been thinking about involving terraforming Mars."
   ]
  },
  {
   "cell_type": "markdown",
   "metadata": {},
   "source": [
    "## Defining the Problem\n",
    "\n",
    "### The Problem\n",
    "\n",
    "The [ML checklist](https://www.oreilly.com/library/view/hands-on-machine-learning/9781491962282/app02.html) focuses more on business oriented problems and so has suggestions like:\n",
    "\n",
    "- Define the objectives in business terms\n",
    "- How should performance be measured\n",
    "- Is the performance measure aligned with the business objective\n",
    "\n",
    "and others along that line, along with a good number of more generic suggestions.\n",
    "\n",
    "While this isn't technically a business problem, like most data science questions it's nice and vague. Very ill-defined. Framing this problem requires thinking about the need underlying the question, how the answer will be used, and comparable questions/situations/solutions.\n",
    "\n",
    "### The Options\n",
    "\n",
    "What are the biggest issues in terraforming Mars? Let's start with the two most obvious:\n",
    "\n",
    "- Air\n",
    "- Liquid water\n",
    "\n"
   ]
  },
  {
   "cell_type": "code",
   "execution_count": null,
   "metadata": {},
   "outputs": [],
   "source": []
  },
  {
   "cell_type": "code",
   "execution_count": null,
   "metadata": {},
   "outputs": [],
   "source": []
  },
  {
   "cell_type": "code",
   "execution_count": null,
   "metadata": {},
   "outputs": [],
   "source": []
  },
  {
   "cell_type": "code",
   "execution_count": null,
   "metadata": {},
   "outputs": [],
   "source": []
  }
 ],
 "metadata": {
  "kernelspec": {
   "display_name": "Python 3",
   "language": "python",
   "name": "python3"
  },
  "language_info": {
   "codemirror_mode": {
    "name": "ipython",
    "version": 3
   },
   "file_extension": ".py",
   "mimetype": "text/x-python",
   "name": "python",
   "nbconvert_exporter": "python",
   "pygments_lexer": "ipython3",
   "version": "3.7.6"
  }
 },
 "nbformat": 4,
 "nbformat_minor": 4
}
