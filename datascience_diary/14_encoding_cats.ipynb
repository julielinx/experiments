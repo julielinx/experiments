{
 "cells": [
  {
   "cell_type": "markdown",
   "metadata": {},
   "source": [
    "# Entry 14 - Encoding Categoricals"
   ]
  },
  {
   "cell_type": "markdown",
   "metadata": {},
   "source": [
    "## The Problem\n",
    "\n",
    "Most machine learning algorithms require features to be numeric. Per usual, decision trees/random forests are the exception (the algorithm is just more forgiving in general). Last time I played with R, categorical variables were allowed to remain categorical for decision trees/random forests.\n",
    "\n",
    "My tool of choice, scikit-learn, [doesn't allow for categoricals](https://scikit-learn.org/stable/faq.html#why-do-categorical-variables-need-preprocessing-in-scikit-learn-compared-to-other-tools). All features must be encoded as numeric values. The reasons for this have to do with the [extensive amount of work](https://scikit-learn.org/stable/faq.html#why-does-scikit-learn-not-directly-work-with-for-example-pandas-dataframe) needed to support categorical types."
   ]
  },
  {
   "cell_type": "markdown",
   "metadata": {},
   "source": [
    "## The Options\n",
    "\n",
    "- Scikit-learn's preprocessing module\n",
    "  - Binarizer\n",
    "  - LabelBinarizer\n",
    "  - LabelEncoder\n",
    "  - OneHotEncoder\n",
    "  - OrdinalEncoder\n",
    "  - label_binarize\n",
    "- Scikit-learn's feature_extractor module\n",
    "  - DictVectorizer\n",
    "  - FeatureHasher\n",
    "- category-encoders\n",
    "  - Backward Difference Contrast\n",
    "  - BaseN\n",
    "  - Binary\n",
    "  - Count\n",
    "  - Hashing\n",
    "  - Helmert Contrast\n",
    "  - James-Stein Estimator\n",
    "  - LeaveOneOut\n",
    "  - M-estimator\n",
    "  - Ordinal\n",
    "  - One-Hot\n",
    "  - Polynomial Contrast\n",
    "  - Sum Contrast\n",
    "  - Target Encoding\n",
    "  - Weight of Evidence\n",
    "- pandas\n",
    "  - .astype('category') method + .cat.codes method\n",
    "  - .get_dummies()\n",
    "  - .replace() method + dictionary mapper"
   ]
  },
  {
   "cell_type": "markdown",
   "metadata": {},
   "source": []
  },
  {
   "cell_type": "code",
   "execution_count": null,
   "metadata": {},
   "outputs": [],
   "source": []
  }
 ],
 "metadata": {
  "kernelspec": {
   "display_name": "Python 3",
   "language": "python",
   "name": "python3"
  },
  "language_info": {
   "codemirror_mode": {
    "name": "ipython",
    "version": 3
   },
   "file_extension": ".py",
   "mimetype": "text/x-python",
   "name": "python",
   "nbconvert_exporter": "python",
   "pygments_lexer": "ipython3",
   "version": "3.7.6"
  }
 },
 "nbformat": 4,
 "nbformat_minor": 4
}
